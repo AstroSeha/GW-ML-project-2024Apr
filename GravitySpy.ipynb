{
 "cells": [
  {
   "cell_type": "code",
   "execution_count": 5,
   "metadata": {},
   "outputs": [
    {
     "name": "stdout",
     "output_type": "stream",
     "text": [
      "Requirement already satisfied: gwpy in /Users/sehalee/anaconda3/envs/gravityspy/lib/python3.11/site-packages (3.0.8)\n",
      "Requirement already satisfied: astropy>=4.3.0 in /Users/sehalee/anaconda3/envs/gravityspy/lib/python3.11/site-packages (from gwpy) (6.1.0)\n",
      "Requirement already satisfied: dateparser>=1.1.4 in /Users/sehalee/anaconda3/envs/gravityspy/lib/python3.11/site-packages (from gwpy) (1.2.0)\n",
      "Requirement already satisfied: dqsegdb2 in /Users/sehalee/anaconda3/envs/gravityspy/lib/python3.11/site-packages (from gwpy) (1.2.1)\n",
      "Requirement already satisfied: gwdatafind>=1.1.0 in /Users/sehalee/anaconda3/envs/gravityspy/lib/python3.11/site-packages (from gwpy) (1.2.0)\n",
      "Requirement already satisfied: gwosc>=0.5.3 in /Users/sehalee/anaconda3/envs/gravityspy/lib/python3.11/site-packages (from gwpy) (0.7.1)\n",
      "Requirement already satisfied: h5py>=3.0.0 in /Users/sehalee/anaconda3/envs/gravityspy/lib/python3.11/site-packages (from gwpy) (3.11.0)\n",
      "Requirement already satisfied: ligo-segments>=1.0.0 in /Users/sehalee/anaconda3/envs/gravityspy/lib/python3.11/site-packages (from gwpy) (1.4.0)\n",
      "Requirement already satisfied: ligotimegps>=1.2.1 in /Users/sehalee/anaconda3/envs/gravityspy/lib/python3.11/site-packages (from gwpy) (2.0.1)\n",
      "Requirement already satisfied: matplotlib>=3.3.0 in /Users/sehalee/anaconda3/envs/gravityspy/lib/python3.11/site-packages (from gwpy) (3.8.4)\n",
      "Requirement already satisfied: numpy>=1.19 in /Users/sehalee/anaconda3/envs/gravityspy/lib/python3.11/site-packages (from gwpy) (1.26.4)\n",
      "Requirement already satisfied: python-dateutil in /Users/sehalee/anaconda3/envs/gravityspy/lib/python3.11/site-packages (from gwpy) (2.9.0)\n",
      "Requirement already satisfied: requests in /Users/sehalee/anaconda3/envs/gravityspy/lib/python3.11/site-packages (from gwpy) (2.31.0)\n",
      "Requirement already satisfied: scipy>=1.5.0 in /Users/sehalee/anaconda3/envs/gravityspy/lib/python3.11/site-packages (from gwpy) (1.13.0)\n",
      "Requirement already satisfied: tqdm>=4.10.0 in /Users/sehalee/anaconda3/envs/gravityspy/lib/python3.11/site-packages (from gwpy) (4.66.4)\n",
      "Requirement already satisfied: pyerfa>=2.0.1.1 in /Users/sehalee/anaconda3/envs/gravityspy/lib/python3.11/site-packages (from astropy>=4.3.0->gwpy) (2.0.1.4)\n",
      "Requirement already satisfied: astropy-iers-data>=0.2024.4.29.0.28.48 in /Users/sehalee/anaconda3/envs/gravityspy/lib/python3.11/site-packages (from astropy>=4.3.0->gwpy) (0.2024.5.6.0.29.28)\n",
      "Requirement already satisfied: PyYAML>=3.13 in /Users/sehalee/anaconda3/envs/gravityspy/lib/python3.11/site-packages (from astropy>=4.3.0->gwpy) (6.0.1)\n",
      "Requirement already satisfied: packaging>=19.0 in /Users/sehalee/anaconda3/envs/gravityspy/lib/python3.11/site-packages (from astropy>=4.3.0->gwpy) (24.0)\n",
      "Requirement already satisfied: pytz in /Users/sehalee/anaconda3/envs/gravityspy/lib/python3.11/site-packages (from dateparser>=1.1.4->gwpy) (2024.1)\n",
      "Requirement already satisfied: regex!=2019.02.19,!=2021.8.27 in /Users/sehalee/anaconda3/envs/gravityspy/lib/python3.11/site-packages (from dateparser>=1.1.4->gwpy) (2024.5.10)\n",
      "Requirement already satisfied: tzlocal in /Users/sehalee/anaconda3/envs/gravityspy/lib/python3.11/site-packages (from dateparser>=1.1.4->gwpy) (5.2)\n",
      "Requirement already satisfied: igwn-auth-utils>=0.3.1 in /Users/sehalee/anaconda3/envs/gravityspy/lib/python3.11/site-packages (from gwdatafind>=1.1.0->gwpy) (1.1.0)\n",
      "Requirement already satisfied: six in /Users/sehalee/anaconda3/envs/gravityspy/lib/python3.11/site-packages (from ligo-segments>=1.0.0->gwpy) (1.16.0)\n",
      "Requirement already satisfied: contourpy>=1.0.1 in /Users/sehalee/anaconda3/envs/gravityspy/lib/python3.11/site-packages (from matplotlib>=3.3.0->gwpy) (1.2.1)\n",
      "Requirement already satisfied: cycler>=0.10 in /Users/sehalee/anaconda3/envs/gravityspy/lib/python3.11/site-packages (from matplotlib>=3.3.0->gwpy) (0.12.1)\n",
      "Requirement already satisfied: fonttools>=4.22.0 in /Users/sehalee/anaconda3/envs/gravityspy/lib/python3.11/site-packages (from matplotlib>=3.3.0->gwpy) (4.51.0)\n",
      "Requirement already satisfied: kiwisolver>=1.3.1 in /Users/sehalee/anaconda3/envs/gravityspy/lib/python3.11/site-packages (from matplotlib>=3.3.0->gwpy) (1.4.5)\n",
      "Requirement already satisfied: pillow>=8 in /Users/sehalee/anaconda3/envs/gravityspy/lib/python3.11/site-packages (from matplotlib>=3.3.0->gwpy) (10.3.0)\n",
      "Requirement already satisfied: pyparsing>=2.3.1 in /Users/sehalee/anaconda3/envs/gravityspy/lib/python3.11/site-packages (from matplotlib>=3.3.0->gwpy) (3.1.2)\n",
      "Requirement already satisfied: charset-normalizer<4,>=2 in /Users/sehalee/anaconda3/envs/gravityspy/lib/python3.11/site-packages (from requests->gwpy) (3.3.2)\n",
      "Requirement already satisfied: idna<4,>=2.5 in /Users/sehalee/anaconda3/envs/gravityspy/lib/python3.11/site-packages (from requests->gwpy) (3.7)\n",
      "Requirement already satisfied: urllib3<3,>=1.21.1 in /Users/sehalee/anaconda3/envs/gravityspy/lib/python3.11/site-packages (from requests->gwpy) (2.2.1)\n",
      "Requirement already satisfied: certifi>=2017.4.17 in /Users/sehalee/anaconda3/envs/gravityspy/lib/python3.11/site-packages (from requests->gwpy) (2024.2.2)\n",
      "Requirement already satisfied: cryptography>=2.3 in /Users/sehalee/anaconda3/envs/gravityspy/lib/python3.11/site-packages (from igwn-auth-utils>=0.3.1->gwdatafind>=1.1.0->gwpy) (42.0.7)\n",
      "Requirement already satisfied: safe-netrc>=1.0.0 in /Users/sehalee/anaconda3/envs/gravityspy/lib/python3.11/site-packages (from igwn-auth-utils>=0.3.1->gwdatafind>=1.1.0->gwpy) (1.0.1)\n",
      "Requirement already satisfied: scitokens>=1.7.0 in /Users/sehalee/anaconda3/envs/gravityspy/lib/python3.11/site-packages (from igwn-auth-utils>=0.3.1->gwdatafind>=1.1.0->gwpy) (1.8.1)\n",
      "Requirement already satisfied: cffi>=1.12 in /Users/sehalee/anaconda3/envs/gravityspy/lib/python3.11/site-packages (from cryptography>=2.3->igwn-auth-utils>=0.3.1->gwdatafind>=1.1.0->gwpy) (1.16.0)\n",
      "Requirement already satisfied: PyJWT>=1.6.1 in /Users/sehalee/anaconda3/envs/gravityspy/lib/python3.11/site-packages (from scitokens>=1.7.0->igwn-auth-utils>=0.3.1->gwdatafind>=1.1.0->gwpy) (2.8.0)\n",
      "Requirement already satisfied: pycparser in /Users/sehalee/anaconda3/envs/gravityspy/lib/python3.11/site-packages (from cffi>=1.12->cryptography>=2.3->igwn-auth-utils>=0.3.1->gwdatafind>=1.1.0->gwpy) (2.22)\n",
      "Note: you may need to restart the kernel to use updated packages.\n"
     ]
    }
   ],
   "source": [
    "%pip install gwpy"
   ]
  },
  {
   "cell_type": "code",
   "execution_count": 6,
   "metadata": {},
   "outputs": [
    {
     "ename": "ModuleNotFoundError",
     "evalue": "No module named 'gravityspy'",
     "output_type": "error",
     "traceback": [
      "\u001b[0;31m---------------------------------------------------------------------------\u001b[0m",
      "\u001b[0;31mModuleNotFoundError\u001b[0m                       Traceback (most recent call last)",
      "Cell \u001b[0;32mIn[6], line 2\u001b[0m\n\u001b[1;32m      1\u001b[0m \u001b[38;5;28;01mfrom\u001b[39;00m \u001b[38;5;21;01mgwpy\u001b[39;00m\u001b[38;5;21;01m.\u001b[39;00m\u001b[38;5;21;01mtimeseries\u001b[39;00m \u001b[38;5;28;01mimport\u001b[39;00m TimeSeries\n\u001b[0;32m----> 2\u001b[0m \u001b[38;5;28;01mfrom\u001b[39;00m \u001b[38;5;21;01mgravityspy\u001b[39;00m\u001b[38;5;21;01m.\u001b[39;00m\u001b[38;5;21;01mclassify\u001b[39;00m \u001b[38;5;28;01mimport\u001b[39;00m classify\n\u001b[1;32m      4\u001b[0m timeseries \u001b[38;5;241m=\u001b[39m TimeSeries\u001b[38;5;241m.\u001b[39mread(\u001b[38;5;124m'\u001b[39m\u001b[38;5;124mdata/timeseries/scratchy_timeseries_test.h5\u001b[39m\u001b[38;5;124m'\u001b[39m)\n\u001b[1;32m      5\u001b[0m event_time \u001b[38;5;241m=\u001b[39m \u001b[38;5;241m1127700030.877928972\u001b[39m\n",
      "\u001b[0;31mModuleNotFoundError\u001b[0m: No module named 'gravityspy'"
     ]
    }
   ],
   "source": [
    "from gwpy.timeseries import TimeSeries\n",
    "from gravityspy.classify import classify\n",
    "\n",
    "timeseries = TimeSeries.read('data/timeseries/scratchy_timeseries_test.h5')\n",
    "event_time = 1127700030.877928972\n",
    "results = classify(event_time=event_time, channel_name='L1:GDS-CALIB_STRAIN',path_to_cnn='../models/multi_view_classifier.h5', timeseries=timeseries)\n",
    "print(results)"
   ]
  }
 ],
 "metadata": {
  "kernelspec": {
   "display_name": "gravityspy",
   "language": "python",
   "name": "python3"
  },
  "language_info": {
   "codemirror_mode": {
    "name": "ipython",
    "version": 3
   },
   "file_extension": ".py",
   "mimetype": "text/x-python",
   "name": "python",
   "nbconvert_exporter": "python",
   "pygments_lexer": "ipython3",
   "version": "3.11.9"
  }
 },
 "nbformat": 4,
 "nbformat_minor": 2
}
